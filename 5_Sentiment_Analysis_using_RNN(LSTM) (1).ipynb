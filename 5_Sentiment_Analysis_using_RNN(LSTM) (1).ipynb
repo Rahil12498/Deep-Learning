{
  "nbformat": 4,
  "nbformat_minor": 0,
  "metadata": {
    "colab": {
      "provenance": []
    },
    "kernelspec": {
      "name": "python3",
      "display_name": "Python 3"
    },
    "language_info": {
      "name": "python"
    }
  },
  "cells": [
    {
      "cell_type": "markdown",
      "source": [
        "# Using Recurrent Neural Networks (LSTM) to train on IMDB Dataset and perform Review Analysis (Checking whether review is positive or Negative)"
      ],
      "metadata": {
        "id": "UMd3ET1dxnsc"
      }
    },
    {
      "cell_type": "code",
      "execution_count": 5,
      "metadata": {
        "id": "NeLREIlcxJs8"
      },
      "outputs": [],
      "source": [
        "import keras\n",
        "from keras.preprocessing import sequence\n",
        "from keras.models import Sequential\n",
        "from keras.layers import Dense, Embedding\n",
        "from keras.layers import LSTM\n",
        "from keras.datasets import imdb"
      ]
    },
    {
      "cell_type": "code",
      "source": [
        "(x_train, y_train), (x_test, y_test) = imdb.load_data(num_words = 5000)"
      ],
      "metadata": {
        "colab": {
          "base_uri": "https://localhost:8080/"
        },
        "id": "Z0mRQSdoxMF5",
        "outputId": "dc622266-e110-4def-de45-951bac0c5741"
      },
      "execution_count": 2,
      "outputs": [
        {
          "output_type": "stream",
          "name": "stdout",
          "text": [
            "Downloading data from https://storage.googleapis.com/tensorflow/tf-keras-datasets/imdb.npz\n",
            "17464789/17464789 [==============================] - 0s 0us/step\n"
          ]
        }
      ]
    },
    {
      "cell_type": "code",
      "source": [
        "x_train = keras.utils.pad_sequences(x_train, maxlen=80)\n",
        "x_test = keras.utils.pad_sequences(x_test, maxlen=80)"
      ],
      "metadata": {
        "id": "GCA-bCIuxNf_"
      },
      "execution_count": 7,
      "outputs": []
    },
    {
      "cell_type": "code",
      "source": [
        "# Creating Model\n",
        "model = Sequential()\n",
        "model.add(Embedding(5000, 128))\n",
        "model.add(LSTM(128,activation=\"tanh\",recurrent_activation=\"sigmoid\"))\n",
        "model.add(Dense(1, activation = 'sigmoid'))\n",
        "model.summary()"
      ],
      "metadata": {
        "colab": {
          "base_uri": "https://localhost:8080/"
        },
        "id": "ifQEdRIHxPCu",
        "outputId": "dbd096af-3417-4872-9597-a3fb133b85f6"
      },
      "execution_count": 8,
      "outputs": [
        {
          "output_type": "stream",
          "name": "stdout",
          "text": [
            "Model: \"sequential\"\n",
            "_________________________________________________________________\n",
            " Layer (type)                Output Shape              Param #   \n",
            "=================================================================\n",
            " embedding (Embedding)       (None, None, 128)         640000    \n",
            "                                                                 \n",
            " lstm (LSTM)                 (None, 128)               131584    \n",
            "                                                                 \n",
            " dense (Dense)               (None, 1)                 129       \n",
            "                                                                 \n",
            "=================================================================\n",
            "Total params: 771,713\n",
            "Trainable params: 771,713\n",
            "Non-trainable params: 0\n",
            "_________________________________________________________________\n"
          ]
        }
      ]
    },
    {
      "cell_type": "code",
      "source": [
        "model.compile(loss = 'binary_crossentropy', optimizer = 'adam', metrics = ['accuracy'])"
      ],
      "metadata": {
        "id": "Eaa8E1C7xQjr"
      },
      "execution_count": 9,
      "outputs": []
    },
    {
      "cell_type": "code",
      "source": [
        "#Training \n",
        "lstm=model.fit(x_train, y_train, batch_size =32, epochs = 3, validation_data = (x_test, y_test),shuffle=True,verbose=1)"
      ],
      "metadata": {
        "colab": {
          "base_uri": "https://localhost:8080/"
        },
        "id": "hy2aC4UZxd2p",
        "outputId": "ab0205a8-1204-4f3b-8ac4-d4b23005e227"
      },
      "execution_count": null,
      "outputs": [
        {
          "output_type": "stream",
          "name": "stdout",
          "text": [
            "Epoch 1/3\n",
            " 97/782 [==>...........................] - ETA: 2:12 - loss: 0.6027 - accuracy: 0.6672"
          ]
        }
      ]
    },
    {
      "cell_type": "code",
      "source": [
        "op=model.predict(x_test)\n",
        "op"
      ],
      "metadata": {
        "id": "Bh9u9tWrxSEy"
      },
      "execution_count": null,
      "outputs": []
    },
    {
      "cell_type": "code",
      "source": [
        "#Using test data to check the predicted values\n",
        "from random import randint\n",
        "arr_ind=randint(0,24999)\n",
        "index=imdb.get_word_index()\n",
        "reverse_index = dict([(value, key) for (key, value) in index.items()]) \n",
        "decoded = \" \".join([reverse_index.get(i - 3, \"#\") for i in x_test[arr_ind]])\n",
        "arr=[]\n",
        "for i in op:\n",
        "  if(i<0.5):\n",
        "    arr.append(\"Negative\")\n",
        "  else:\n",
        "    arr.append(\"Positive\")\n",
        "print(\"Sentence:\",decoded)\n",
        "print(\"Review:\",arr[arr_ind])\n",
        "print(\"Predicted Value:\",op[arr_ind][0])\n",
        "print(\"Expected Value:\",y_test[arr_ind])"
      ],
      "metadata": {
        "id": "ytIawmHdxTmZ"
      },
      "execution_count": null,
      "outputs": []
    }
  ]
}